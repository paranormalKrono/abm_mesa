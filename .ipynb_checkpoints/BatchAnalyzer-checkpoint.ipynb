{
 "cells": [
  {
   "cell_type": "code",
   "execution_count": 2,
   "id": "1906ff71-a6c6-46a4-aa65-bddb2b5f4c81",
   "metadata": {},
   "outputs": [],
   "source": [
    "from main import ParallelGraphComputingSystem\n",
    "import mesa\n",
    "import pandas as pd\n",
    "import seaborn as sns\n",
    "import matplotlib.pyplot as plt\n",
    "\n",
    "# For a jupyter notebook add the following line:\n",
    "%matplotlib inline\n",
    "\n",
    "# The below is needed for both notebooks and scripts\n",
    "import matplotlib.pyplot as plt"
   ]
  },
  {
   "cell_type": "code",
   "execution_count": 3,
   "id": "412ae9f9-5170-459c-95c8-aea26e106c86",
   "metadata": {},
   "outputs": [
    {
     "data": {
      "application/vnd.jupyter.widget-view+json": {
       "model_id": "01f44e539da144c5802dd00c1f6c204b",
       "version_major": 2,
       "version_minor": 0
      },
      "text/plain": [
       "  0%|          | 0/8 [00:00<?, ?it/s]"
      ]
     },
     "metadata": {},
     "output_type": "display_data"
    }
   ],
   "source": [
    "params = {\"num_agents\": range(4, 11, 2), \"performance\": 12, \"performance_diff\": 3, \n",
    "          \"new_tasks\": 120, \"new_tasks_diff\": 5, \"graph_density\": 0.7,  \n",
    "          \"gamma_step\": 1}\n",
    "\n",
    "results = mesa.batch_run(\n",
    "    ParallelGraphComputingSystem,\n",
    "    parameters=params,\n",
    "    iterations=2,\n",
    "    max_steps=10000,\n",
    "    number_processes=None,\n",
    "    data_collection_period=100,\n",
    "    display_progress=True,\n",
    ")"
   ]
  },
  {
   "cell_type": "code",
   "execution_count": 4,
   "id": "fdcda331-6f87-4529-93b6-047bfefe9dce",
   "metadata": {},
   "outputs": [
    {
     "name": "stdout",
     "output_type": "stream",
     "text": [
      "Index(['RunId', 'iteration', 'Step', 'num_agents', 'performance',\n",
      "       'performance_diff', 'new_tasks', 'new_tasks_diff', 'graph_density',\n",
      "       'gamma_step', 'Main_relation', 'AgentID', 'Tasks', 'Relation', 'State',\n",
      "       'Performance'],\n",
      "      dtype='object')\n"
     ]
    }
   ],
   "source": [
    "results_df = pd.DataFrame(results)\n",
    "print(results_df.keys())"
   ]
  },
  {
   "cell_type": "code",
   "execution_count": 5,
   "id": "92538777-389c-4ae4-ab5e-52a2db62ca68",
   "metadata": {},
   "outputs": [
    {
     "data": {
      "image/png": "[encoded data removed]",
      "text/plain": [
       "<Figure size 640x480 with 1 Axes>"
      ]
     },
     "metadata": {},
     "output_type": "display_data"
    }
   ],
   "source": [
    "results_filtered = results_df[(results_df.AgentID == 0) & (results_df.Step == 100)]\n",
    "results_filtered[[\"iteration\", \"num_agents\", \"Main_relation\"]].reset_index(\n",
    "    drop=True\n",
    ").head()\n",
    "g = sns.scatterplot(data=results_filtered, x=\"num_agents\", y=\"Main_relation\")\n",
    "g.set(\n",
    "    xlabel=\"Number of agents\",\n",
    "    ylabel=\"Main relation\",\n",
    "    title=\"Main relation vs. number of agents\",\n",
    ");"
   ]
  },
  {
   "cell_type": "code",
   "execution_count": 13,
   "id": "795fde43-5d14-4ba9-9bb7-cb2460804eee",
   "metadata": {},
   "outputs": [
    {
     "data": {
      "text/plain": [
       "RangeIndex(start=0, stop=5656, step=1)"
      ]
     },
     "execution_count": 13,
     "metadata": {},
     "output_type": "execute_result"
    }
   ],
   "source": [
    "results_df.head()\n",
    "results_df.index"
   ]
  },
  {
   "cell_type": "code",
   "execution_count": 17,
   "id": "3d662edf-9d64-464a-ad89-3bc50d2c3bad",
   "metadata": {},
   "outputs": [
    {
     "ename": "KeyError",
     "evalue": "'Requested level (None) does not match index name (None)'",
     "output_type": "error",
     "traceback": [
      "\u001b[1;31m---------------------------------------------------------------------------\u001b[0m",
      "\u001b[1;31mKeyError\u001b[0m                                  Traceback (most recent call last)",
      "Cell \u001b[1;32mIn[17], line 2\u001b[0m\n\u001b[0;32m      1\u001b[0m multiple_agents_relation \u001b[38;5;241m=\u001b[39m results_df[\n\u001b[1;32m----> 2\u001b[0m     \u001b[43mresults_df\u001b[49m\u001b[38;5;241;43m.\u001b[39;49m\u001b[43mindex\u001b[49m\u001b[38;5;241;43m.\u001b[39;49m\u001b[43mget_level_values\u001b[49m\u001b[43m(\u001b[49m\u001b[38;5;124;43m\"\u001b[39;49m\u001b[38;5;124;43mNone\u001b[39;49m\u001b[38;5;124;43m\"\u001b[39;49m\u001b[43m)\u001b[49m\n\u001b[0;32m      3\u001b[0m ]\n\u001b[0;32m      4\u001b[0m g \u001b[38;5;241m=\u001b[39m sns\u001b[38;5;241m.\u001b[39mlineplot(data\u001b[38;5;241m=\u001b[39mmultiple_agents_relation, x\u001b[38;5;241m=\u001b[39m\u001b[38;5;124m\"\u001b[39m\u001b[38;5;124mStep\u001b[39m\u001b[38;5;124m\"\u001b[39m, y\u001b[38;5;241m=\u001b[39m\u001b[38;5;124m\"\u001b[39m\u001b[38;5;124mMain_relation\u001b[39m\u001b[38;5;124m\"\u001b[39m, hue\u001b[38;5;241m=\u001b[39m\u001b[38;5;124m\"\u001b[39m\u001b[38;5;124mRunID\u001b[39m\u001b[38;5;124m\"\u001b[39m)\n\u001b[0;32m      5\u001b[0m g\u001b[38;5;241m.\u001b[39mset(title\u001b[38;5;241m=\u001b[39m\u001b[38;5;124m\"\u001b[39m\u001b[38;5;124mMain relations of k agents\u001b[39m\u001b[38;5;124m\"\u001b[39m);\n",
      "File \u001b[1;32mC:\\Program Files\\Python311\\Lib\\site-packages\\pandas\\core\\indexes\\base.py:2076\u001b[0m, in \u001b[0;36mIndex._get_level_values\u001b[1;34m(self, level)\u001b[0m\n\u001b[0;32m   2040\u001b[0m \u001b[38;5;28;01mdef\u001b[39;00m \u001b[38;5;21m_get_level_values\u001b[39m(\u001b[38;5;28mself\u001b[39m, level) \u001b[38;5;241m-\u001b[39m\u001b[38;5;241m>\u001b[39m Index:\n\u001b[0;32m   2041\u001b[0m \u001b[38;5;250m    \u001b[39m\u001b[38;5;124;03m\"\"\"\u001b[39;00m\n\u001b[0;32m   2042\u001b[0m \u001b[38;5;124;03m    Return an Index of values for requested level.\u001b[39;00m\n\u001b[0;32m   2043\u001b[0m \n\u001b[1;32m   (...)\u001b[0m\n\u001b[0;32m   2074\u001b[0m \u001b[38;5;124;03m    Index(['a', 'b', 'c'], dtype='object')\u001b[39;00m\n\u001b[0;32m   2075\u001b[0m \u001b[38;5;124;03m    \"\"\"\u001b[39;00m\n\u001b[1;32m-> 2076\u001b[0m     \u001b[38;5;28;43mself\u001b[39;49m\u001b[38;5;241;43m.\u001b[39;49m\u001b[43m_validate_index_level\u001b[49m\u001b[43m(\u001b[49m\u001b[43mlevel\u001b[49m\u001b[43m)\u001b[49m\n\u001b[0;32m   2077\u001b[0m     \u001b[38;5;28;01mreturn\u001b[39;00m \u001b[38;5;28mself\u001b[39m\n",
      "File \u001b[1;32mC:\\Program Files\\Python311\\Lib\\site-packages\\pandas\\core\\indexes\\base.py:1986\u001b[0m, in \u001b[0;36mIndex._validate_index_level\u001b[1;34m(self, level)\u001b[0m\n\u001b[0;32m   1982\u001b[0m         \u001b[38;5;28;01mraise\u001b[39;00m \u001b[38;5;167;01mIndexError\u001b[39;00m(\n\u001b[0;32m   1983\u001b[0m             \u001b[38;5;124mf\u001b[39m\u001b[38;5;124m\"\u001b[39m\u001b[38;5;124mToo many levels: Index has only 1 level, not \u001b[39m\u001b[38;5;132;01m{\u001b[39;00mlevel\u001b[38;5;250m \u001b[39m\u001b[38;5;241m+\u001b[39m\u001b[38;5;250m \u001b[39m\u001b[38;5;241m1\u001b[39m\u001b[38;5;132;01m}\u001b[39;00m\u001b[38;5;124m\"\u001b[39m\n\u001b[0;32m   1984\u001b[0m         )\n\u001b[0;32m   1985\u001b[0m \u001b[38;5;28;01melif\u001b[39;00m level \u001b[38;5;241m!=\u001b[39m \u001b[38;5;28mself\u001b[39m\u001b[38;5;241m.\u001b[39mname:\n\u001b[1;32m-> 1986\u001b[0m     \u001b[38;5;28;01mraise\u001b[39;00m \u001b[38;5;167;01mKeyError\u001b[39;00m(\n\u001b[0;32m   1987\u001b[0m         \u001b[38;5;124mf\u001b[39m\u001b[38;5;124m\"\u001b[39m\u001b[38;5;124mRequested level (\u001b[39m\u001b[38;5;132;01m{\u001b[39;00mlevel\u001b[38;5;132;01m}\u001b[39;00m\u001b[38;5;124m) does not match index name (\u001b[39m\u001b[38;5;132;01m{\u001b[39;00m\u001b[38;5;28mself\u001b[39m\u001b[38;5;241m.\u001b[39mname\u001b[38;5;132;01m}\u001b[39;00m\u001b[38;5;124m)\u001b[39m\u001b[38;5;124m\"\u001b[39m\n\u001b[0;32m   1988\u001b[0m     )\n",
      "\u001b[1;31mKeyError\u001b[0m: 'Requested level (None) does not match index name (None)'"
     ]
    }
   ],
   "source": [
    "multiple_agents_relation = results_df[\n",
    "    results_df.index.get_level_values(\"RunId\")\n",
    "]\n",
    "g = sns.lineplot(data=multiple_agents_relation, x=\"Step\", y=\"Main_relation\", hue=\"RunID\")\n",
    "g.set(title=\"Main relations of k agents\");"
   ]
  },
  {
   "cell_type": "code",
   "execution_count": 5,
   "id": "a98f7539-4902-42e6-8717-76a3251264d7",
   "metadata": {},
   "outputs": [
    {
     "name": "stdout",
     "output_type": "stream",
     "text": [
      " Step  AgentID  Tasks  Performance     Relation    State\n",
      "    0        0      0           11     0.000000 0.000000\n",
      "    0        1      0           11     0.000000 0.000000\n",
      "    0        2      0           11     0.000000 0.000000\n",
      "    0        3      0           12     0.000000 0.000000\n",
      "  ...      ...    ...          ...          ...      ...\n",
      "10000        0 108883           11  9898.454545 3.831781\n",
      "10000        1 105306           11  9574.090909 9.315678\n",
      "10000        2  96441           11  8767.090909 1.000000\n",
      "10000        3 141107           12 11758.916667 4.112315\n",
      "-----------\n",
      " Step  AgentID  Tasks  Performance     Relation     State\n",
      "    0        0      0           10     0.000000  0.000000\n",
      "    0        1      0           11     0.000000  0.000000\n",
      "    0        2      0           11     0.000000  0.000000\n",
      "    0        3      0           10     0.000000  0.000000\n",
      "  ...      ...    ...          ...          ...       ...\n",
      "10000        0 109220           10 10923.000000 12.166840\n",
      "10000        1 116117           11 10556.000000  1.000000\n",
      "10000        2 135708           11 12335.909091  2.608694\n",
      "10000        3 120813           10 12081.300000  2.470323\n",
      "-----------\n",
      " Step  AgentID  Tasks  Performance    Relation    State\n",
      "    0        0      0           10    0.000000 0.000000\n",
      "    0        1      0           10    0.000000 0.000000\n",
      "    0        2      0           13    0.000000 0.000000\n",
      "    0        3      0           14    0.000000 0.000000\n",
      "    0        4      0           11    0.000000 0.000000\n",
      "    0        5      0           10    0.000000 0.000000\n",
      "  ...      ...    ...          ...         ...      ...\n",
      "10000        0  31871           10 3186.600000 1.110202\n",
      "10000        1  34178           10 3417.700000 2.261173\n",
      "10000        2  73828           13 5678.615385 1.000000\n",
      "10000        3  87559           14 6254.428571 4.264196\n",
      "10000        4  50314           11 4574.000000 3.590596\n",
      "10000        5  42758           10 4275.800000 3.689203\n",
      "-----------\n",
      " Step  AgentID  Tasks  Performance    Relation     State\n",
      "    0        0      0           12    0.000000  0.000000\n",
      "    0        1      0           11    0.000000  0.000000\n",
      "    0        2      0           12    0.000000  0.000000\n",
      "    0        3      0           14    0.000000  0.000000\n",
      "    0        4      0           10    0.000000  0.000000\n",
      "    0        5      0           13    0.000000  0.000000\n",
      "  ...      ...    ...          ...         ...       ...\n",
      "10000        0  39485           12 3290.416667  9.994141\n",
      "10000        1  34620           11 3147.636364 10.893604\n",
      "10000        2  45127           12 3760.416667  7.913884\n",
      "10000        3  74033           14 5288.071429  9.290485\n",
      "10000        4  35759           10 3575.900000  9.881692\n",
      "10000        5  51935           13 3995.000000  1.000000\n",
      "-----------\n",
      " Step  AgentID  Tasks  Performance    Relation    State\n",
      "    0        0      0           14    0.000000 0.000000\n",
      "    0        1      0           10    0.000000 0.000000\n",
      "    0        2      0           10    0.000000 0.000000\n",
      "    0        3      0           11    0.000000 0.000000\n",
      "    0        4      0           13    0.000000 0.000000\n",
      "    0        5      0            9    0.000000 0.000000\n",
      "    0        6      0           13    0.000000 0.000000\n",
      "    0        7      0           11    0.000000 0.000000\n",
      "  ...      ...    ...          ...         ...      ...\n",
      "10000        0  38877           14 2776.785714 1.682144\n",
      "10000        1   9188           10  918.800000 2.274295\n",
      "10000        2   9593           10  959.300000 2.321688\n",
      "10000        3  11133           11 1012.000000 1.589700\n",
      "10000        4  23153           13 1781.000000 2.706335\n",
      "10000        5  13483            9 1498.111111 2.237944\n",
      "10000        6  24082           13 1852.153846 1.000000\n",
      "10000        7  12307           11 1118.818182 1.486936\n",
      "-----------\n",
      " Step  AgentID  Tasks  Performance    Relation    State\n",
      "    0        0      0            9    0.000000 0.000000\n",
      "    0        1      0           14    0.000000 0.000000\n",
      "    0        2      0           12    0.000000 0.000000\n",
      "    0        3      0           14    0.000000 0.000000\n",
      "    0        4      0           10    0.000000 0.000000\n",
      "    0        5      0           12    0.000000 0.000000\n",
      "    0        6      0           11    0.000000 0.000000\n",
      "    0        7      0           14    0.000000 0.000000\n",
      "  ...      ...    ...          ...         ...      ...\n",
      "10000        0  10498            9 1166.444444 1.105563\n",
      "10000        1  25311           14 1807.928571 1.479843\n",
      "10000        2   6310           12  525.833333 1.000000\n",
      "10000        3  19333           14 1381.357143 2.638479\n",
      "10000        4   3568           10  356.800000 1.227741\n",
      "10000        5   4725           12  393.750000 1.149107\n",
      "10000        6   5691           11  517.363636 1.208350\n",
      "10000        7  16956           14 1211.142857 1.098396\n",
      "-----------\n",
      " Step  AgentID  Tasks  Performance   Relation    State\n",
      "    0        0      0            9   0.000000 0.000000\n",
      "    0        1      0            9   0.000000 0.000000\n",
      "    0        2      0           11   0.000000 0.000000\n",
      "    0        3      0            9   0.000000 0.000000\n",
      "    0        4      0           13   0.000000 0.000000\n",
      "    0        5      0           10   0.000000 0.000000\n",
      "    0        6      0           12   0.000000 0.000000\n",
      "    0        7      0           14   0.000000 0.000000\n",
      "    0        8      0            9   0.000000 0.000000\n",
      "    0        9      0           14   0.000000 0.000000\n",
      "  ...      ...    ...          ...        ...      ...\n",
      "10000        0     22            9   2.555556 3.680910\n",
      "10000        1    478            9  53.000000 2.797213\n",
      "10000        2     14           11   1.181818 2.461594\n",
      "10000        3    206            9  23.111111 3.106095\n",
      "10000        4     80           13   6.153846 2.647098\n",
      "10000        5      3           10   0.300000 2.254142\n",
      "10000        6      6           12   0.166667 1.866201\n",
      "10000        7   2710           14 193.571429 1.000000\n",
      "10000        8    767            9  85.222222 2.716789\n",
      "10000        9      0           14   0.000000 2.217571\n",
      "-----------\n",
      " Step  AgentID  Tasks  Performance  Relation    State\n",
      "    0        0      0            9  0.000000 0.000000\n",
      "    0        1      0           13  0.000000 0.000000\n",
      "    0        2      0           11  0.000000 0.000000\n",
      "    0        3      0           13  0.000000 0.000000\n",
      "    0        4      0            9  0.000000 0.000000\n",
      "    0        5      0           12  0.000000 0.000000\n",
      "    0        6      0           10  0.000000 0.000000\n",
      "    0        7      0           12  0.000000 0.000000\n",
      "    0        8      0           12  0.000000 0.000000\n",
      "    0        9      0           13  0.000000 0.000000\n",
      "  ...      ...    ...          ...       ...      ...\n",
      "10000        0     14            9  1.555556 2.445179\n",
      "10000        1     16           13  1.000000 1.684933\n",
      "10000        2     21           11  1.909091 2.310667\n",
      "10000        3     16           13  1.076923 1.767654\n",
      "10000        4     29            9  3.111111 1.809363\n",
      "10000        5      0           12  0.000000 2.224175\n",
      "10000        6      8           10  0.900000 2.206892\n",
      "10000        7      2           12  0.000000 1.466767\n",
      "10000        8      2           12  0.000000 1.000000\n",
      "10000        9      0           13  0.000000 1.307859\n",
      "-----------\n"
     ]
    }
   ],
   "source": [
    "for i in range(4, 11, 2):\n",
    "    for j in range (0, 2, 1):\n",
    "        one_episode_wealth = results_df[(results_df.num_agents == i) & (results_df.iteration == j)]\n",
    "\n",
    "        print(one_episode_wealth.to_string(\n",
    "                index=False, columns=[\"Step\", \"AgentID\", \"Tasks\", \n",
    "                                      \"Performance\", \"Relation\", \"State\"], max_rows=i * 2))\n",
    "        print(\"-----------\")"
   ]
  },
  {
   "cell_type": "code",
   "execution_count": null,
   "id": "0e60ca8e-c43e-4c8d-8227-8f0842abcd82",
   "metadata": {},
   "outputs": [],
   "source": []
  }
 ],
 "metadata": {
  "kernelspec": {
   "display_name": "Python 3 (ipykernel)",
   "language": "python",
   "name": "python3"
  },
  "language_info": {
   "codemirror_mode": {
    "name": "ipython",
    "version": 3
   },
   "file_extension": ".py",
   "mimetype": "text/x-python",
   "name": "python",
   "nbconvert_exporter": "python",
   "pygments_lexer": "ipython3",
   "version": "3.11.5"
  }
 },
 "nbformat": 4,
 "nbformat_minor": 5
}
